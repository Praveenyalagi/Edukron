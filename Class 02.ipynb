{
 "cells": [
  {
   "cell_type": "code",
   "execution_count": 1,
   "id": "02057edd",
   "metadata": {},
   "outputs": [
    {
     "data": {
      "text/plain": [
       "['d', 't', '', '']"
      ]
     },
     "execution_count": 1,
     "metadata": {},
     "output_type": "execute_result"
    }
   ],
   "source": [
    "x = 'dataa'\n",
    "x.split('a')"
   ]
  },
  {
   "cell_type": "code",
   "execution_count": 2,
   "id": "697214f0",
   "metadata": {},
   "outputs": [
    {
     "data": {
      "text/plain": [
       "2"
      ]
     },
     "execution_count": 2,
     "metadata": {},
     "output_type": "execute_result"
    }
   ],
   "source": [
    "x = 'Data Science'\n",
    "x.count('a')"
   ]
  },
  {
   "cell_type": "code",
   "execution_count": 3,
   "id": "ff49816b",
   "metadata": {},
   "outputs": [
    {
     "data": {
      "text/plain": [
       "'Machine Science'"
      ]
     },
     "execution_count": 3,
     "metadata": {},
     "output_type": "execute_result"
    }
   ],
   "source": [
    "x = 'Data Science'\n",
    "x.replace('Data', 'Machine')"
   ]
  },
  {
   "cell_type": "markdown",
   "id": "f0a02fa7",
   "metadata": {},
   "source": [
    "### Indexing"
   ]
  },
  {
   "cell_type": "code",
   "execution_count": 5,
   "id": "b6c1ac0f",
   "metadata": {},
   "outputs": [
    {
     "data": {
      "text/plain": [
       "'Da'"
      ]
     },
     "execution_count": 5,
     "metadata": {},
     "output_type": "execute_result"
    }
   ],
   "source": [
    "x = 'Data Science'\n",
    "x[:2]"
   ]
  },
  {
   "cell_type": "code",
   "execution_count": 6,
   "id": "832f2d69",
   "metadata": {},
   "outputs": [
    {
     "data": {
      "text/plain": [
       "'nc'"
      ]
     },
     "execution_count": 6,
     "metadata": {},
     "output_type": "execute_result"
    }
   ],
   "source": [
    "x[-3:-1]"
   ]
  },
  {
   "cell_type": "code",
   "execution_count": 8,
   "id": "67212e6a",
   "metadata": {},
   "outputs": [
    {
     "data": {
      "text/plain": [
       "'ce'"
      ]
     },
     "execution_count": 8,
     "metadata": {},
     "output_type": "execute_result"
    }
   ],
   "source": [
    "x[-2:]"
   ]
  },
  {
   "cell_type": "code",
   "execution_count": 11,
   "id": "f292d80c",
   "metadata": {},
   "outputs": [
    {
     "data": {
      "text/plain": [
       "'DA'"
      ]
     },
     "execution_count": 11,
     "metadata": {},
     "output_type": "execute_result"
    }
   ],
   "source": [
    "x = 'data science'\n",
    "x[0:2].upper()  # x.upper([0:2]) is also fine but first give pref for filter"
   ]
  },
  {
   "cell_type": "code",
   "execution_count": 13,
   "id": "31400e64",
   "metadata": {},
   "outputs": [
    {
     "data": {
      "text/plain": [
       "'sciENCE'"
      ]
     },
     "execution_count": 13,
     "metadata": {},
     "output_type": "execute_result"
    }
   ],
   "source": [
    "x = 'data SCIence'\n",
    "x[5:].swapcase()"
   ]
  },
  {
   "cell_type": "code",
   "execution_count": 15,
   "id": "0d0f74f7",
   "metadata": {},
   "outputs": [
    {
     "data": {
      "text/plain": [
       "'sciENCE'"
      ]
     },
     "execution_count": 15,
     "metadata": {},
     "output_type": "execute_result"
    }
   ],
   "source": [
    "x.split()[1].swapcase()"
   ]
  },
  {
   "cell_type": "code",
   "execution_count": 16,
   "id": "603b9189",
   "metadata": {},
   "outputs": [
    {
     "data": {
      "text/plain": [
       "'data      science'"
      ]
     },
     "execution_count": 16,
     "metadata": {},
     "output_type": "execute_result"
    }
   ],
   "source": [
    "x = 'data \\tscience'\n",
    "x.expandtabs(10)"
   ]
  },
  {
   "cell_type": "code",
   "execution_count": 19,
   "id": "d4e141a5",
   "metadata": {},
   "outputs": [
    {
     "data": {
      "text/plain": [
       "False"
      ]
     },
     "execution_count": 19,
     "metadata": {},
     "output_type": "execute_result"
    }
   ],
   "source": [
    "x = \" data\" #we can use 1 quot or 2 quot and 3 quot is for next line\n",
    "x.isspace() #only space it returns true in other case it's false"
   ]
  },
  {
   "cell_type": "code",
   "execution_count": 22,
   "id": "dcbcc4f1",
   "metadata": {},
   "outputs": [
    {
     "data": {
      "text/plain": [
       "6"
      ]
     },
     "execution_count": 22,
     "metadata": {},
     "output_type": "execute_result"
    }
   ],
   "source": [
    "x = 'machine learing'\n",
    "x.find('e') # it shows indexing num of first occurance element"
   ]
  },
  {
   "cell_type": "code",
   "execution_count": 30,
   "id": "c00d13f9",
   "metadata": {},
   "outputs": [
    {
     "data": {
      "text/plain": [
       "9"
      ]
     },
     "execution_count": 30,
     "metadata": {},
     "output_type": "execute_result"
    }
   ],
   "source": [
    "x.find('e', 7) # it shows after 7th index"
   ]
  },
  {
   "cell_type": "code",
   "execution_count": 32,
   "id": "7f8f2ab4",
   "metadata": {},
   "outputs": [
    {
     "data": {
      "text/plain": [
       "9"
      ]
     },
     "execution_count": 32,
     "metadata": {},
     "output_type": "execute_result"
    }
   ],
   "source": [
    "x.find('e', 7,10) #it shows in between position"
   ]
  },
  {
   "cell_type": "code",
   "execution_count": 34,
   "id": "7fab5f07",
   "metadata": {},
   "outputs": [
    {
     "data": {
      "text/plain": [
       "-1"
      ]
     },
     "execution_count": 34,
     "metadata": {},
     "output_type": "execute_result"
    }
   ],
   "source": [
    "x.find('x', 7, 9) # if it is not present in it then it return -1"
   ]
  },
  {
   "cell_type": "code",
   "execution_count": 38,
   "id": "066a8992",
   "metadata": {},
   "outputs": [
    {
     "data": {
      "text/plain": [
       "'****data***'"
      ]
     },
     "execution_count": 38,
     "metadata": {},
     "output_type": "execute_result"
    }
   ],
   "source": [
    "x = 'data'\n",
    "x.center(11, '*') # by default it adds spaces arround it to make 11 char and priority is for left"
   ]
  },
  {
   "cell_type": "code",
   "execution_count": 39,
   "id": "a3b4e307",
   "metadata": {},
   "outputs": [
    {
     "data": {
      "text/plain": [
       "'000000data'"
      ]
     },
     "execution_count": 39,
     "metadata": {},
     "output_type": "execute_result"
    }
   ],
   "source": [
    "x.zfill(10) #it fills left with zero"
   ]
  },
  {
   "cell_type": "code",
   "execution_count": 40,
   "id": "c0ca6b2d",
   "metadata": {},
   "outputs": [
    {
     "data": {
      "text/plain": [
       "'data  '"
      ]
     },
     "execution_count": 40,
     "metadata": {},
     "output_type": "execute_result"
    }
   ],
   "source": [
    "x = '  data  '\n",
    "x.lstrip()"
   ]
  },
  {
   "cell_type": "code",
   "execution_count": 41,
   "id": "b50bd4e8",
   "metadata": {},
   "outputs": [
    {
     "data": {
      "text/plain": [
       "'  data'"
      ]
     },
     "execution_count": 41,
     "metadata": {},
     "output_type": "execute_result"
    }
   ],
   "source": [
    "x = '  data  '\n",
    "x.rstrip()"
   ]
  },
  {
   "cell_type": "code",
   "execution_count": 42,
   "id": "5a0dd082",
   "metadata": {},
   "outputs": [
    {
     "data": {
      "text/plain": [
       "'data'"
      ]
     },
     "execution_count": 42,
     "metadata": {},
     "output_type": "execute_result"
    }
   ],
   "source": [
    "x = '  data  '\n",
    "x.strip()"
   ]
  },
  {
   "cell_type": "code",
   "execution_count": 44,
   "id": "c6b3c616",
   "metadata": {},
   "outputs": [
    {
     "data": {
      "text/plain": [
       "'data      '"
      ]
     },
     "execution_count": 44,
     "metadata": {},
     "output_type": "execute_result"
    }
   ],
   "source": [
    "x = 'data'\n",
    "x.ljust(10)"
   ]
  },
  {
   "cell_type": "code",
   "execution_count": 45,
   "id": "fcadd40c",
   "metadata": {},
   "outputs": [
    {
     "data": {
      "text/plain": [
       "'      data'"
      ]
     },
     "execution_count": 45,
     "metadata": {},
     "output_type": "execute_result"
    }
   ],
   "source": [
    "x.rjust(10)"
   ]
  },
  {
   "cell_type": "code",
   "execution_count": 46,
   "id": "42b513b4",
   "metadata": {},
   "outputs": [
    {
     "data": {
      "text/plain": [
       "'******data'"
      ]
     },
     "execution_count": 46,
     "metadata": {},
     "output_type": "execute_result"
    }
   ],
   "source": [
    "x.rjust(10, '*')"
   ]
  },
  {
   "cell_type": "code",
   "execution_count": null,
   "id": "5edb8225",
   "metadata": {},
   "outputs": [],
   "source": []
  },
  {
   "cell_type": "code",
   "execution_count": null,
   "id": "0d2fcd60",
   "metadata": {},
   "outputs": [],
   "source": []
  },
  {
   "cell_type": "code",
   "execution_count": null,
   "id": "e69375fb",
   "metadata": {},
   "outputs": [],
   "source": []
  },
  {
   "cell_type": "code",
   "execution_count": 50,
   "id": "c6739585",
   "metadata": {},
   "outputs": [
    {
     "data": {
      "text/plain": [
       "[22, 2, 3, 'data', (3+2j)]"
      ]
     },
     "execution_count": 50,
     "metadata": {},
     "output_type": "execute_result"
    }
   ],
   "source": [
    "x = [1,2,3, 'data', 3+2j]\n",
    "x[0] = 22\n",
    "x"
   ]
  },
  {
   "cell_type": "code",
   "execution_count": null,
   "id": "05612358",
   "metadata": {},
   "outputs": [],
   "source": []
  },
  {
   "cell_type": "code",
   "execution_count": null,
   "id": "a8686d79",
   "metadata": {},
   "outputs": [],
   "source": []
  },
  {
   "cell_type": "code",
   "execution_count": null,
   "id": "2c203088",
   "metadata": {},
   "outputs": [],
   "source": []
  },
  {
   "cell_type": "code",
   "execution_count": null,
   "id": "20bb1f21",
   "metadata": {},
   "outputs": [],
   "source": []
  },
  {
   "cell_type": "code",
   "execution_count": null,
   "id": "8271c3e9",
   "metadata": {},
   "outputs": [],
   "source": []
  }
 ],
 "metadata": {
  "kernelspec": {
   "display_name": "Python 3 (ipykernel)",
   "language": "python",
   "name": "python3"
  },
  "language_info": {
   "codemirror_mode": {
    "name": "ipython",
    "version": 3
   },
   "file_extension": ".py",
   "mimetype": "text/x-python",
   "name": "python",
   "nbconvert_exporter": "python",
   "pygments_lexer": "ipython3",
   "version": "3.9.12"
  }
 },
 "nbformat": 4,
 "nbformat_minor": 5
}
