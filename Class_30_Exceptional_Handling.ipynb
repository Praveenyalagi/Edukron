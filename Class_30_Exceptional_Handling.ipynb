{
  "nbformat": 4,
  "nbformat_minor": 0,
  "metadata": {
    "colab": {
      "provenance": []
    },
    "kernelspec": {
      "name": "python3",
      "display_name": "Python 3"
    },
    "language_info": {
      "name": "python"
    }
  },
  "cells": [
    {
      "cell_type": "code",
      "execution_count": null,
      "metadata": {
        "colab": {
          "base_uri": "https://localhost:8080/"
        },
        "id": "e7dGt5ss_qao",
        "outputId": "5595c950-81c9-486b-ce7a-5627d602231b"
      },
      "outputs": [
        {
          "output_type": "stream",
          "name": "stdout",
          "text": [
            "10\n"
          ]
        }
      ],
      "source": [
        "try:\n",
        "  print(4+6)\n",
        "except:\n",
        "  print(\"try block demo\")\n"
      ]
    },
    {
      "cell_type": "code",
      "source": [
        "try:\n",
        "  print(4/0)\n",
        "except:\n",
        "  print(\"try block demo\")"
      ],
      "metadata": {
        "colab": {
          "base_uri": "https://localhost:8080/"
        },
        "id": "DLSnEcIyB2g9",
        "outputId": "948df5b0-809c-4575-f007-ebf026ee55f3"
      },
      "execution_count": null,
      "outputs": [
        {
          "output_type": "stream",
          "name": "stdout",
          "text": [
            "try block demo\n"
          ]
        }
      ]
    },
    {
      "cell_type": "code",
      "source": [
        "try:\n",
        "  print(2+input())\n",
        "except:\n",
        "  print(\"data\")"
      ],
      "metadata": {
        "id": "FxR_OrbEB4P1",
        "colab": {
          "base_uri": "https://localhost:8080/"
        },
        "outputId": "302d5530-fd9c-4b04-a02d-17647a629ff3"
      },
      "execution_count": null,
      "outputs": [
        {
          "output_type": "stream",
          "name": "stdout",
          "text": [
            "22\n",
            "data\n"
          ]
        }
      ]
    },
    {
      "cell_type": "code",
      "source": [
        "try:\n",
        "  print(4/0)\n",
        "except:\n",
        "  print(\"except block is executed\")\n",
        "else:\n",
        "  print(\"else block is executed\")\n",
        "finally:\n",
        "  print(\"finally is always printed\")"
      ],
      "metadata": {
        "id": "FjTdYZ3WB4T7",
        "colab": {
          "base_uri": "https://localhost:8080/"
        },
        "outputId": "c836798d-dfd0-46ca-9ea5-a902af140f21"
      },
      "execution_count": null,
      "outputs": [
        {
          "metadata": {
            "tags": null
          },
          "name": "stdout",
          "output_type": "stream",
          "text": [
            "except block is executed\n",
            "finally is always printed\n"
          ]
        }
      ]
    },
    {
      "cell_type": "code",
      "source": [
        "### always either try or except\n",
        "### if try is there else will come\n",
        "## if except is there else is not part of the output"
      ],
      "metadata": {
        "id": "K1VzID__EY0E"
      },
      "execution_count": null,
      "outputs": []
    },
    {
      "cell_type": "code",
      "source": [
        " try:\n",
        "  a,b = 10,2\n",
        "  result = a / b\n",
        "except:\n",
        "  print(\"cannot divide by zero\")\n",
        "else:\n",
        "  print(\"Division Result:\", result)\n",
        "finally:\n",
        "  print(\"Operation Complete\\n\")"
      ],
      "metadata": {
        "id": "gO0uZSNtEY4F",
        "colab": {
          "base_uri": "https://localhost:8080/"
        },
        "outputId": "86cfcfab-0d90-44a4-b860-4f126d12008e"
      },
      "execution_count": null,
      "outputs": [
        {
          "output_type": "stream",
          "name": "stdout",
          "text": [
            "Division Result: 5.0\n",
            "Operation Complete\n",
            "\n"
          ]
        }
      ]
    },
    {
      "cell_type": "code",
      "source": [
        "try:\n",
        "  value = int('232')\n",
        "except ValueError:\n",
        "  print(\"Invalid integer\")\n",
        "else:\n",
        "  print(\"converted:\", value + 10)\n",
        "finally:\n",
        "  print(\"Conversion Attempt Finished\\n\")"
      ],
      "metadata": {
        "id": "z_1fTc8dFti8",
        "colab": {
          "base_uri": "https://localhost:8080/"
        },
        "outputId": "a9df1438-c02d-479c-9d8c-494db17183f3"
      },
      "execution_count": null,
      "outputs": [
        {
          "output_type": "stream",
          "name": "stdout",
          "text": [
            "converted: 242\n",
            "Conversion Attempt Finished\n",
            "\n"
          ]
        }
      ]
    },
    {
      "cell_type": "code",
      "source": [
        "try:\n",
        "  base, exp = 2, 5\n",
        "  result = base ** exp\n",
        "except Exception as e:\n",
        "  print(\"Error:\", e)\n",
        "else:\n",
        "  print(\"Power:\", result)\n",
        "finally:\n",
        "  print(\"Operation Complete\\n\")"
      ],
      "metadata": {
        "id": "qlNUZ1NaFtvJ",
        "colab": {
          "base_uri": "https://localhost:8080/"
        },
        "outputId": "a21032f8-1d56-43f9-ce94-ba9ef2bbfeba"
      },
      "execution_count": null,
      "outputs": [
        {
          "metadata": {
            "tags": null
          },
          "name": "stdout",
          "output_type": "stream",
          "text": [
            "Power: 32\n",
            "Operation Complete\n",
            "\n"
          ]
        }
      ]
    },
    {
      "cell_type": "code",
      "source": [
        "try:\n",
        "  a = 6\n",
        "  b = 0\n",
        "  result = a/b\n",
        "except ZeroDivisionError as e:\n",
        "  a = 12\n",
        "  b = 3\n",
        "  print(a/b)"
      ],
      "metadata": {
        "id": "iqBSd_f4HRAi",
        "colab": {
          "base_uri": "https://localhost:8080/"
        },
        "outputId": "db2b7480-d98f-42c9-daef-7df25fc831d0"
      },
      "execution_count": null,
      "outputs": [
        {
          "output_type": "stream",
          "name": "stdout",
          "text": [
            "4.0\n"
          ]
        }
      ]
    },
    {
      "cell_type": "code",
      "source": [
        "try:\n",
        "  num = int(\"xyz\")\n",
        "except ValueError as e:\n",
        "  print(e)"
      ],
      "metadata": {
        "id": "qBZ8xZxRHRKm",
        "colab": {
          "base_uri": "https://localhost:8080/"
        },
        "outputId": "a7fa01c1-ea8d-440c-cd88-a3085c64c053"
      },
      "execution_count": null,
      "outputs": [
        {
          "metadata": {
            "tags": null
          },
          "name": "stdout",
          "output_type": "stream",
          "text": [
            "invalid literal for int() with base 10: 'xyz'\n"
          ]
        }
      ]
    },
    {
      "cell_type": "code",
      "source": [
        "try:\n",
        "  result = '5' + 20\n",
        "except TypeError as e:\n",
        "  print(\"Error\", e)"
      ],
      "metadata": {
        "id": "zJck52r7HRQ-",
        "colab": {
          "base_uri": "https://localhost:8080/"
        },
        "outputId": "b7620643-7741-4a75-eb33-b551d2ce467d"
      },
      "execution_count": null,
      "outputs": [
        {
          "output_type": "stream",
          "name": "stdout",
          "text": [
            "Error can only concatenate str (not \"int\") to str\n"
          ]
        }
      ]
    },
    {
      "cell_type": "code",
      "source": [
        "try:\n",
        "  result = [2,4,6,8,5]\n",
        "  print(result[20])\n",
        "except IndexError as e:\n",
        "  print(\"Error\", e)"
      ],
      "metadata": {
        "id": "-Ty1hckWHRWG",
        "colab": {
          "base_uri": "https://localhost:8080/"
        },
        "outputId": "2102d569-3244-49c9-e538-76447e452734"
      },
      "execution_count": null,
      "outputs": [
        {
          "output_type": "stream",
          "name": "stdout",
          "text": [
            "Error list index out of range\n"
          ]
        }
      ]
    },
    {
      "cell_type": "code",
      "source": [
        "try:\n",
        "  result = [2,4,6,8,5]\n",
        "  print(result[20:30])\n",
        "except IndexError as e:\n",
        "  print(\"Error\", e)"
      ],
      "metadata": {
        "id": "10phKwbxFt0W",
        "colab": {
          "base_uri": "https://localhost:8080/"
        },
        "outputId": "06475b41-8c0a-4c1d-fc27-42b242cdece2"
      },
      "execution_count": null,
      "outputs": [
        {
          "output_type": "stream",
          "name": "stdout",
          "text": [
            "[]\n"
          ]
        }
      ]
    },
    {
      "cell_type": "code",
      "source": [
        "try:\n",
        "  result = [2,4,6,8,5]\n",
        "  print(result[20:30])\n",
        "  print(2/0)\n",
        "except IndexError as e:\n",
        "  print(\"Error\", e)\n",
        "except:\n",
        "  print('output')"
      ],
      "metadata": {
        "id": "-dOP3M8qFt5A",
        "colab": {
          "base_uri": "https://localhost:8080/"
        },
        "outputId": "37ce43b2-151c-430b-947b-bcf1e3411608"
      },
      "execution_count": null,
      "outputs": [
        {
          "output_type": "stream",
          "name": "stdout",
          "text": [
            "[]\n",
            "output\n"
          ]
        }
      ]
    },
    {
      "cell_type": "code",
      "source": [
        "try:\n",
        "  result = [2,4,6,8,5]\n",
        "  print(result[20:30])\n",
        "  print(2/0)\n",
        "except IndexError as e:\n",
        "  print(\"Error\", e)\n",
        "except:\n",
        "  print('output')"
      ],
      "metadata": {
        "id": "QKtHTKgEFt-S",
        "colab": {
          "base_uri": "https://localhost:8080/"
        },
        "outputId": "4ceb07f7-d02c-419c-e2e8-cddafe093e3e"
      },
      "execution_count": null,
      "outputs": [
        {
          "output_type": "stream",
          "name": "stdout",
          "text": [
            "[]\n",
            "output\n"
          ]
        }
      ]
    },
    {
      "cell_type": "code",
      "source": [
        "try:\n",
        "  d = {'a':1}\n",
        "  print(d['b'])\n",
        "except KeyError as e:\n",
        "  print('Error', e)"
      ],
      "metadata": {
        "id": "1WcfZEXwMME2",
        "colab": {
          "base_uri": "https://localhost:8080/"
        },
        "outputId": "1804813f-f99a-4659-a924-da1e04b29f4f"
      },
      "execution_count": null,
      "outputs": [
        {
          "output_type": "stream",
          "name": "stdout",
          "text": [
            "Error 'b'\n"
          ]
        }
      ]
    },
    {
      "cell_type": "code",
      "source": [
        "try:\n",
        "  f = open(\"sample.txt\")\n",
        "  print(f.read())\n",
        "except FileNotFoundError as e:\n",
        "  print(\"Error\", e)"
      ],
      "metadata": {
        "id": "DcIEGFfAMMLS",
        "colab": {
          "base_uri": "https://localhost:8080/"
        },
        "outputId": "658229d6-fb44-4552-e2b5-3c684be1c82c"
      },
      "execution_count": null,
      "outputs": [
        {
          "output_type": "stream",
          "name": "stdout",
          "text": [
            "python\n",
            "jupyter\n"
          ]
        }
      ]
    },
    {
      "cell_type": "code",
      "source": [
        "try:\n",
        "  x = 20\n",
        "  x.append(5)\n",
        "except AttributeError as e:\n",
        "  print(\"Error\", e)"
      ],
      "metadata": {
        "id": "dqDo_wcpMMQ7",
        "colab": {
          "base_uri": "https://localhost:8080/"
        },
        "outputId": "39a04625-9dc3-4f4b-f9f7-653efe269175"
      },
      "execution_count": null,
      "outputs": [
        {
          "output_type": "stream",
          "name": "stdout",
          "text": [
            "Error 'int' object has no attribute 'append'\n"
          ]
        }
      ]
    },
    {
      "cell_type": "code",
      "source": [
        "try:\n",
        "  import nomodule\n",
        "except ModuleNotFoundError as e:\n",
        "  print(\"Error\", e)"
      ],
      "metadata": {
        "id": "PgW-T-nYMMWo",
        "colab": {
          "base_uri": "https://localhost:8080/"
        },
        "outputId": "c9e143e5-2593-40b7-c0eb-c3b89d0b67ac"
      },
      "execution_count": null,
      "outputs": [
        {
          "metadata": {
            "tags": null
          },
          "name": "stdout",
          "output_type": "stream",
          "text": [
            "Error No module named 'nomodule'\n"
          ]
        }
      ]
    },
    {
      "cell_type": "code",
      "source": [
        "a = 10\n",
        "b = 15\n",
        "a + b"
      ],
      "metadata": {
        "id": "Kikmkh_0EY8D",
        "colab": {
          "base_uri": "https://localhost:8080/"
        },
        "outputId": "073d076e-45b0-4b2a-d445-af42608ee0d5"
      },
      "execution_count": null,
      "outputs": [
        {
          "output_type": "execute_result",
          "data": {
            "text/plain": [
              "25"
            ]
          },
          "metadata": {},
          "execution_count": 28
        }
      ]
    },
    {
      "cell_type": "code",
      "source": [
        "try:\n",
        "  output = [1] * 1000000000\n",
        "except MemoryError as e:\n",
        "  print(\"Error\", e)"
      ],
      "metadata": {
        "id": "ULgYIUtrRZCj"
      },
      "execution_count": null,
      "outputs": []
    },
    {
      "cell_type": "code",
      "source": [
        "import math\n",
        "print(math.exp(1000))"
      ],
      "metadata": {
        "colab": {
          "base_uri": "https://localhost:8080/",
          "height": 158
        },
        "id": "AWmRtTXTRZF1",
        "outputId": "3aadd49d-b1d5-4df6-b1db-f0cf42f4cba1"
      },
      "execution_count": null,
      "outputs": [
        {
          "output_type": "error",
          "ename": "OverflowError",
          "evalue": "math range error",
          "traceback": [
            "\u001b[0;31m---------------------------------------------------------------------------\u001b[0m",
            "\u001b[0;31mOverflowError\u001b[0m                             Traceback (most recent call last)",
            "\u001b[0;32m/tmp/ipython-input-790541606.py\u001b[0m in \u001b[0;36m<cell line: 0>\u001b[0;34m()\u001b[0m\n\u001b[1;32m      1\u001b[0m \u001b[0;32mimport\u001b[0m \u001b[0mmath\u001b[0m\u001b[0;34m\u001b[0m\u001b[0;34m\u001b[0m\u001b[0m\n\u001b[0;32m----> 2\u001b[0;31m \u001b[0mprint\u001b[0m\u001b[0;34m(\u001b[0m\u001b[0mmath\u001b[0m\u001b[0;34m.\u001b[0m\u001b[0mexp\u001b[0m\u001b[0;34m(\u001b[0m\u001b[0;36m1000\u001b[0m\u001b[0;34m)\u001b[0m\u001b[0;34m)\u001b[0m\u001b[0;34m\u001b[0m\u001b[0;34m\u001b[0m\u001b[0m\n\u001b[0m",
            "\u001b[0;31mOverflowError\u001b[0m: math range error"
          ]
        }
      ]
    },
    {
      "cell_type": "code",
      "source": [
        "def f1():\n",
        "  return f1()\n",
        "try:\n",
        "  f1()\n",
        "except RecursionError as e:\n",
        "  print(\"Error\",e)  ## Recursive error"
      ],
      "metadata": {
        "colab": {
          "base_uri": "https://localhost:8080/"
        },
        "id": "gtP1bxMrRZJb",
        "outputId": "4dc4f802-f3b5-4166-c3bd-ec2fdc8e4b50"
      },
      "execution_count": null,
      "outputs": [
        {
          "output_type": "stream",
          "name": "stdout",
          "text": [
            "Error maximum recursion depth exceeded\n"
          ]
        }
      ]
    },
    {
      "cell_type": "code",
      "source": [
        "### Name Errors, Indentation Errors, Syntax Errors"
      ],
      "metadata": {
        "id": "9g3swJiKEZAD"
      },
      "execution_count": null,
      "outputs": []
    },
    {
      "cell_type": "code",
      "source": [
        "def function1():\n",
        "  x = 30\n",
        "  try:\n",
        "    print(x)\n",
        "    x = 20\n",
        "  except:\n",
        "    print(e)\n",
        "function1()  ## UnboundLocalError and Name Error cause name has to be decalre first"
      ],
      "metadata": {
        "id": "iu80SSKKEZFk",
        "colab": {
          "base_uri": "https://localhost:8080/"
        },
        "outputId": "24b2e142-fded-4393-cac7-36bb1e96b365"
      },
      "execution_count": null,
      "outputs": [
        {
          "output_type": "stream",
          "name": "stdout",
          "text": [
            "30\n"
          ]
        }
      ]
    },
    {
      "cell_type": "code",
      "source": [
        "### permission Error:\n",
        "if the file is in read mode and your trying to write the data to the file then you get the permission error\n",
        "give"
      ],
      "metadata": {
        "id": "g8_2A3V2Ug98"
      },
      "execution_count": null,
      "outputs": []
    },
    {
      "cell_type": "code",
      "source": [
        "##### EOF file error"
      ],
      "metadata": {
        "id": "QeWJQ1JIUhEV"
      },
      "execution_count": null,
      "outputs": []
    },
    {
      "cell_type": "code",
      "source": [
        "try:\n",
        "  value = input()\n",
        "  print(\"you entered\", value)\n",
        "except EOFError as e:\n",
        "  print(\"EOFError\", e)"
      ],
      "metadata": {
        "colab": {
          "base_uri": "https://localhost:8080/"
        },
        "id": "ZyxJ8GLQUhJa",
        "outputId": "6f1d2e55-e5db-4aa9-93c5-4482d35fa746"
      },
      "execution_count": null,
      "outputs": [
        {
          "output_type": "stream",
          "name": "stdout",
          "text": [
            " \n",
            "you entered  \n"
          ]
        }
      ]
    },
    {
      "cell_type": "code",
      "source": [
        "try:\n",
        "  b\"\\xff\".decode(\"utf-8\")\n",
        "except UnicodeError as e:\n",
        "  print(\"UnicodeError\", e)"
      ],
      "metadata": {
        "colab": {
          "base_uri": "https://localhost:8080/"
        },
        "id": "SiWha0xiUhPM",
        "outputId": "35d3ede8-7699-4f64-c596-fd6a3b96316c"
      },
      "execution_count": null,
      "outputs": [
        {
          "output_type": "stream",
          "name": "stdout",
          "text": [
            "UnicodeError 'utf-8' codec can't decode byte 0xff in position 0: invalid start byte\n"
          ]
        }
      ]
    },
    {
      "cell_type": "code",
      "source": [
        "try:\n",
        "  \"u\".encode(\"ascii\")\n",
        "except UnicodeEncodeError as e:\n",
        "  print(\"UnicodeEncodeError\", e)"
      ],
      "metadata": {
        "id": "WLjqDSr4EZKh"
      },
      "execution_count": null,
      "outputs": []
    },
    {
      "cell_type": "code",
      "source": [
        "u.encode"
      ],
      "metadata": {
        "id": "N2xXWz2wEZPy"
      },
      "execution_count": null,
      "outputs": []
    },
    {
      "cell_type": "code",
      "source": [],
      "metadata": {
        "id": "be1kEDK_EZVL"
      },
      "execution_count": null,
      "outputs": []
    },
    {
      "cell_type": "code",
      "source": [],
      "metadata": {
        "id": "Vjt4_uumB4Yk"
      },
      "execution_count": null,
      "outputs": []
    },
    {
      "cell_type": "code",
      "source": [],
      "metadata": {
        "id": "YSipIYIXB4de"
      },
      "execution_count": null,
      "outputs": []
    },
    {
      "cell_type": "code",
      "source": [],
      "metadata": {
        "id": "05ymFHZwB4ip"
      },
      "execution_count": null,
      "outputs": []
    },
    {
      "cell_type": "code",
      "source": [],
      "metadata": {
        "id": "RZjnIze9B4pq"
      },
      "execution_count": null,
      "outputs": []
    }
  ]
}