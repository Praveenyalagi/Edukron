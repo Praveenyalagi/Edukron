{
 "cells": [
  {
   "cell_type": "code",
   "execution_count": 6,
   "id": "acaee22d",
   "metadata": {},
   "outputs": [
    {
     "data": {
      "text/plain": [
       "10"
      ]
     },
     "execution_count": 6,
     "metadata": {},
     "output_type": "execute_result"
    }
   ],
   "source": [
    "x = 10\n",
    "x"
   ]
  },
  {
   "cell_type": "code",
   "execution_count": 7,
   "id": "a12edf9a",
   "metadata": {},
   "outputs": [
    {
     "data": {
      "text/plain": [
       "int"
      ]
     },
     "execution_count": 7,
     "metadata": {},
     "output_type": "execute_result"
    }
   ],
   "source": [
    "type(x)"
   ]
  },
  {
   "cell_type": "code",
   "execution_count": 9,
   "id": "02b8f415",
   "metadata": {},
   "outputs": [
    {
     "data": {
      "text/plain": [
       "str"
      ]
     },
     "execution_count": 9,
     "metadata": {},
     "output_type": "execute_result"
    }
   ],
   "source": [
    "x = 'praveen'\n",
    "type(x)"
   ]
  },
  {
   "cell_type": "code",
   "execution_count": 59,
   "id": "a0150df3",
   "metadata": {},
   "outputs": [
    {
     "data": {
      "text/plain": [
       "'PRAVEEN@KUMAR@YALAGI'"
      ]
     },
     "execution_count": 59,
     "metadata": {},
     "output_type": "execute_result"
    }
   ],
   "source": [
    "x.upper()"
   ]
  },
  {
   "cell_type": "code",
   "execution_count": 12,
   "id": "1fd97efa",
   "metadata": {},
   "outputs": [
    {
     "data": {
      "text/plain": [
       "'praveen'"
      ]
     },
     "execution_count": 12,
     "metadata": {},
     "output_type": "execute_result"
    }
   ],
   "source": [
    "x.lower()"
   ]
  },
  {
   "cell_type": "code",
   "execution_count": 13,
   "id": "25580fd4",
   "metadata": {},
   "outputs": [
    {
     "data": {
      "text/plain": [
       "'PRaVeeN'"
      ]
     },
     "execution_count": 13,
     "metadata": {},
     "output_type": "execute_result"
    }
   ],
   "source": [
    "x = 'prAvEEn'\n",
    "x.swapcase()"
   ]
  },
  {
   "cell_type": "code",
   "execution_count": 14,
   "id": "c2cbb319",
   "metadata": {},
   "outputs": [
    {
     "data": {
      "text/plain": [
       "'Praveen Yalagi'"
      ]
     },
     "execution_count": 14,
     "metadata": {},
     "output_type": "execute_result"
    }
   ],
   "source": [
    "x = 'Praveen yalagi'\n",
    "x.title()"
   ]
  },
  {
   "cell_type": "code",
   "execution_count": 48,
   "id": "02512df3",
   "metadata": {},
   "outputs": [
    {
     "data": {
      "text/plain": [
       "'Praveen kumar yalagi'"
      ]
     },
     "execution_count": 48,
     "metadata": {},
     "output_type": "execute_result"
    }
   ],
   "source": [
    "x = 'praveen kumar yalagi'\n",
    "x.capitalize()"
   ]
  },
  {
   "cell_type": "code",
   "execution_count": 26,
   "id": "a3a953e2",
   "metadata": {},
   "outputs": [
    {
     "data": {
      "text/plain": [
       "False"
      ]
     },
     "execution_count": 26,
     "metadata": {},
     "output_type": "execute_result"
    }
   ],
   "source": [
    "x = 'data1213@@%@@'  #should be only alphabets\n",
    "x.isalpha()"
   ]
  },
  {
   "cell_type": "code",
   "execution_count": 31,
   "id": "fe47f317",
   "metadata": {},
   "outputs": [
    {
     "data": {
      "text/plain": [
       "False"
      ]
     },
     "execution_count": 31,
     "metadata": {},
     "output_type": "execute_result"
    }
   ],
   "source": [
    "x = '123alp@$' # should be atleast any one (num / alpha) \n",
    "x.isalnum()"
   ]
  },
  {
   "cell_type": "code",
   "execution_count": 45,
   "id": "e674b81f",
   "metadata": {},
   "outputs": [
    {
     "data": {
      "text/plain": [
       "False"
      ]
     },
     "execution_count": 45,
     "metadata": {},
     "output_type": "execute_result"
    }
   ],
   "source": [
    "x = '123 ' #should be only number, without even space\n",
    "x.isdigit() "
   ]
  },
  {
   "cell_type": "code",
   "execution_count": 43,
   "id": "ddbbc889",
   "metadata": {},
   "outputs": [
    {
     "data": {
      "text/plain": [
       "True"
      ]
     },
     "execution_count": 43,
     "metadata": {},
     "output_type": "execute_result"
    }
   ],
   "source": [
    "x = 'Praveen Kumar Yalagi'\n",
    "x.endswith('gi')"
   ]
  },
  {
   "cell_type": "code",
   "execution_count": 53,
   "id": "5d545f6c",
   "metadata": {},
   "outputs": [
    {
     "data": {
      "text/plain": [
       "True"
      ]
     },
     "execution_count": 53,
     "metadata": {},
     "output_type": "execute_result"
    }
   ],
   "source": [
    "x = 'data science'\n",
    "x.capitalize().startswith('Da')"
   ]
  },
  {
   "cell_type": "code",
   "execution_count": 58,
   "id": "98695b61",
   "metadata": {},
   "outputs": [
    {
     "data": {
      "text/plain": [
       "['Praveen', 'kumar', 'Yalagi']"
      ]
     },
     "execution_count": 58,
     "metadata": {},
     "output_type": "execute_result"
    }
   ],
   "source": [
    "x = 'Praveen@kumar@Yalagi'  # by default it takes spaces is seperator\n",
    "x.split('@')"
   ]
  },
  {
   "cell_type": "code",
   "execution_count": null,
   "id": "46dcc57b",
   "metadata": {},
   "outputs": [],
   "source": []
  },
  {
   "cell_type": "code",
   "execution_count": null,
   "id": "b3e6725d",
   "metadata": {},
   "outputs": [],
   "source": []
  },
  {
   "cell_type": "code",
   "execution_count": null,
   "id": "6cdf64ce",
   "metadata": {},
   "outputs": [],
   "source": []
  }
 ],
 "metadata": {
  "kernelspec": {
   "display_name": "Python 3 (ipykernel)",
   "language": "python",
   "name": "python3"
  },
  "language_info": {
   "codemirror_mode": {
    "name": "ipython",
    "version": 3
   },
   "file_extension": ".py",
   "mimetype": "text/x-python",
   "name": "python",
   "nbconvert_exporter": "python",
   "pygments_lexer": "ipython3",
   "version": "3.9.12"
  }
 },
 "nbformat": 4,
 "nbformat_minor": 5
}
